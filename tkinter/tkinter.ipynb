{
 "cells": [
  {
   "cell_type": "code",
   "execution_count": 1,
   "metadata": {},
   "outputs": [],
   "source": [
    "import tkinter"
   ]
  },
  {
   "cell_type": "code",
   "execution_count": 5,
   "metadata": {},
   "outputs": [],
   "source": [
    "from tkinter import *\n",
    "harry_root = Tk()\n",
    "# gui logic here\n",
    "\n",
    "# width x height\n",
    "harry_root.geometry(\"260x260\")\n",
    "\n",
    "#width,height\n",
    "harry_root.minsize(100,100)\n",
    "\n",
    "#width,height\n",
    "harry_root.minsize(400,400)\n",
    "\n",
    "shiti = Label(text=\"harry is teaching me gui\")\n",
    "shiti.pack()\n",
    "\n",
    "harry_root.mainloop()\n",
    "\n"
   ]
  },
  {
   "cell_type": "code",
   "execution_count": 49,
   "metadata": {},
   "outputs": [
    {
     "ename": "TclError",
     "evalue": "couldn't recognize data in image file \"patallok.png\"",
     "output_type": "error",
     "traceback": [
      "\u001b[1;31m---------------------------------------------------------------------------\u001b[0m",
      "\u001b[1;31mTclError\u001b[0m                                  Traceback (most recent call last)",
      "Cell \u001b[1;32mIn[49], line 6\u001b[0m\n\u001b[0;32m      3\u001b[0m shiti_root \u001b[39m=\u001b[39m Tk()\n\u001b[0;32m      5\u001b[0m shiti_root\u001b[39m.\u001b[39mgeometry()\n\u001b[1;32m----> 6\u001b[0m photo \u001b[39m=\u001b[39m PhotoImage(file\u001b[39m=\u001b[39;49m\u001b[39m\"\u001b[39;49m\u001b[39mpatallok.png\u001b[39;49m\u001b[39m\"\u001b[39;49m)\n\u001b[0;32m      7\u001b[0m shitii_label \u001b[39m=\u001b[39m Label(image\u001b[39m=\u001b[39mphoto)\n\u001b[0;32m      8\u001b[0m shitii_label\u001b[39m.\u001b[39mpack()\n",
      "File \u001b[1;32mc:\\Users\\HP\\AppData\\Local\\Programs\\Python\\Python311\\Lib\\tkinter\\__init__.py:4130\u001b[0m, in \u001b[0;36mPhotoImage.__init__\u001b[1;34m(self, name, cnf, master, **kw)\u001b[0m\n\u001b[0;32m   4125\u001b[0m \u001b[39mdef\u001b[39;00m \u001b[39m__init__\u001b[39m(\u001b[39mself\u001b[39m, name\u001b[39m=\u001b[39m\u001b[39mNone\u001b[39;00m, cnf\u001b[39m=\u001b[39m{}, master\u001b[39m=\u001b[39m\u001b[39mNone\u001b[39;00m, \u001b[39m*\u001b[39m\u001b[39m*\u001b[39mkw):\n\u001b[0;32m   4126\u001b[0m \u001b[39m    \u001b[39m\u001b[39m\"\"\"Create an image with NAME.\u001b[39;00m\n\u001b[0;32m   4127\u001b[0m \n\u001b[0;32m   4128\u001b[0m \u001b[39m    Valid resource names: data, format, file, gamma, height, palette,\u001b[39;00m\n\u001b[0;32m   4129\u001b[0m \u001b[39m    width.\"\"\"\u001b[39;00m\n\u001b[1;32m-> 4130\u001b[0m     Image\u001b[39m.\u001b[39;49m\u001b[39m__init__\u001b[39;49m(\u001b[39mself\u001b[39;49m, \u001b[39m'\u001b[39;49m\u001b[39mphoto\u001b[39;49m\u001b[39m'\u001b[39;49m, name, cnf, master, \u001b[39m*\u001b[39;49m\u001b[39m*\u001b[39;49mkw)\n",
      "File \u001b[1;32mc:\\Users\\HP\\AppData\\Local\\Programs\\Python\\Python311\\Lib\\tkinter\\__init__.py:4075\u001b[0m, in \u001b[0;36mImage.__init__\u001b[1;34m(self, imgtype, name, cnf, master, **kw)\u001b[0m\n\u001b[0;32m   4073\u001b[0m         v \u001b[39m=\u001b[39m \u001b[39mself\u001b[39m\u001b[39m.\u001b[39m_register(v)\n\u001b[0;32m   4074\u001b[0m     options \u001b[39m=\u001b[39m options \u001b[39m+\u001b[39m (\u001b[39m'\u001b[39m\u001b[39m-\u001b[39m\u001b[39m'\u001b[39m\u001b[39m+\u001b[39mk, v)\n\u001b[1;32m-> 4075\u001b[0m \u001b[39mself\u001b[39;49m\u001b[39m.\u001b[39;49mtk\u001b[39m.\u001b[39;49mcall((\u001b[39m'\u001b[39;49m\u001b[39mimage\u001b[39;49m\u001b[39m'\u001b[39;49m, \u001b[39m'\u001b[39;49m\u001b[39mcreate\u001b[39;49m\u001b[39m'\u001b[39;49m, imgtype, name,) \u001b[39m+\u001b[39;49m options)\n\u001b[0;32m   4076\u001b[0m \u001b[39mself\u001b[39m\u001b[39m.\u001b[39mname \u001b[39m=\u001b[39m name\n",
      "\u001b[1;31mTclError\u001b[0m: couldn't recognize data in image file \"patallok.png\""
     ]
    }
   ],
   "source": [
    "from tkinter import *\n",
    "# from PIL import Image, ImageTk\n",
    "shiti_root = Tk()\n",
    "\n",
    "shiti_root.geometry()\n",
    "photo = PhotoImage(file=\"patallok.png\")\n",
    "shitii_label = Label(image=photo)\n",
    "shitii_label.pack()\n",
    "\n",
    "\n",
    "shiti_root.mainloop()"
   ]
  },
  {
   "cell_type": "code",
   "execution_count": 16,
   "metadata": {},
   "outputs": [],
   "source": [
    "from tkinter import *\n",
    "root = Tk()\n",
    "root.geometry(\"900x100\")\n",
    "root.title(\"My GUI With Harry\")\n",
    "\n",
    "# important label options\n",
    "# text =  adds the text\n",
    "# bd = background\n",
    "# fg = foregground\n",
    "# font = sets the font\n",
    "# padx = x padding\n",
    "# pady = y padding\n",
    "# relief = border styling - sunken ,raised, fgroove,ridge\n",
    "\n",
    "root_label = Label(text=\" whats up buddy how are you and what are u doing now ?\",bg=\"blue\" , fg=\"white\", padx=113, pady = 84,font=(\"comicsansms\",20,\"italic\"),relief=SUNKEN)\n",
    "\n",
    "# important pack options\n",
    "#anchor = nw(north west)\n",
    "# ne (north east)\n",
    "# sw (south west)\n",
    "# se (south east)\n",
    "# root_label.pack( anchor=\"nw\")\n",
    "# root_label.pack(side=BOTTOM, anchor=\"sw\")\n",
    "# root_label.pack(side=BOTTOM, anchor=\"sw\", fill=X)\n",
    "root_label.pack(side=LEFT, anchor=\"sw\", fill=Y)\n",
    "\n",
    "\n",
    "\n",
    "\n",
    "root.mainloop()"
   ]
  }
 ],
 "metadata": {
  "kernelspec": {
   "display_name": "Python 3",
   "language": "python",
   "name": "python3"
  },
  "language_info": {
   "codemirror_mode": {
    "name": "ipython",
    "version": 3
   },
   "file_extension": ".py",
   "mimetype": "text/x-python",
   "name": "python",
   "nbconvert_exporter": "python",
   "pygments_lexer": "ipython3",
   "version": "3.11.1"
  },
  "orig_nbformat": 4
 },
 "nbformat": 4,
 "nbformat_minor": 2
}
