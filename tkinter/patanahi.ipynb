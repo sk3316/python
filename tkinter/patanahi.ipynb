{
 "cells": [
  {
   "cell_type": "code",
   "execution_count": 2,
   "metadata": {},
   "outputs": [
    {
     "ename": "ModuleNotFoundError",
     "evalue": "No module named 'flask'",
     "output_type": "error",
     "traceback": [
      "\u001b[1;31m---------------------------------------------------------------------------\u001b[0m",
      "\u001b[1;31mModuleNotFoundError\u001b[0m                       Traceback (most recent call last)",
      "Cell \u001b[1;32mIn[2], line 1\u001b[0m\n\u001b[1;32m----> 1\u001b[0m \u001b[39mfrom\u001b[39;00m \u001b[39mflask\u001b[39;00m \u001b[39mimport\u001b[39;00m Flask, render_template, request\n\u001b[0;32m      3\u001b[0m app \u001b[39m=\u001b[39m Flask(\u001b[39m__name__\u001b[39m)\n\u001b[0;32m      5\u001b[0m \u001b[39m# Create a list to store the user inputs\u001b[39;00m\n",
      "\u001b[1;31mModuleNotFoundError\u001b[0m: No module named 'flask'"
     ]
    }
   ],
   "source": [
    "from flask import Flask, render_template, request\n",
    "\n",
    "app = Flask(__name__)\n",
    "\n",
    "# Create a list to store the user inputs\n",
    "user_inputs = []\n",
    "\n",
    "@app.route('/', methods=['GET', 'POST'])\n",
    "def index():\n",
    "    if request.method == 'POST':\n",
    "        # Get the user input from the form\n",
    "        input_text = request.form.get('input_text')\n",
    "        \n",
    "        # Append the user input to the list of inputs\n",
    "        user_inputs.append(input_text)\n",
    "        \n",
    "    return render_template('index.html')\n",
    "\n",
    "@app.route('/search', methods=['GET', 'POST'])\n",
    "def search():\n",
    "    if request.method == 'POST':\n",
    "        # Get the search term from the form\n",
    "        search_term = request.form.get('search_term')\n",
    "        \n",
    "        # Filter the list of inputs for those containing the search term\n",
    "        search_results = [input_text for input_text in user_inputs if search_term in input_text]\n",
    "        \n",
    "        return render_template('search_results.html', search_results=search_results)\n",
    "    \n",
    "    return render_template('search.html')\n",
    "\n",
    "if __name__ == '__main__':\n",
    "    app.run()\n"
   ]
  }
 ],
 "metadata": {
  "kernelspec": {
   "display_name": "Python 3",
   "language": "python",
   "name": "python3"
  },
  "language_info": {
   "codemirror_mode": {
    "name": "ipython",
    "version": 3
   },
   "file_extension": ".py",
   "mimetype": "text/x-python",
   "name": "python",
   "nbconvert_exporter": "python",
   "pygments_lexer": "ipython3",
   "version": "3.11.1"
  },
  "orig_nbformat": 4
 },
 "nbformat": 4,
 "nbformat_minor": 2
}
