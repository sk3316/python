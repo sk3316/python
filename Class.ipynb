{
 "cells": [
  {
   "cell_type": "code",
   "execution_count": 1,
   "metadata": {},
   "outputs": [
    {
     "name": "stdout",
     "output_type": "stream",
     "text": [
      "hello world\n"
     ]
    }
   ],
   "source": [
    "print(\"hello world\")"
   ]
  },
  {
   "cell_type": "code",
   "execution_count": 3,
   "metadata": {},
   "outputs": [
    {
     "name": "stdout",
     "output_type": "stream",
     "text": [
      "371 is a armstong number\n"
     ]
    }
   ],
   "source": [
    "num=int(input(\"enter nu. to check for armstong\"))\n",
    "sum=0\n",
    "temp=num\n",
    "while temp>0:\n",
    "    digit=temp%10\n",
    "    sum+=digit**3\n",
    "    temp//=10\n",
    "if num == sum:\n",
    "    print(num,\"is a armstong number\")\n",
    "else:\n",
    "    print(num,\"is not a armstong number\")"
   ]
  },
  {
   "cell_type": "code",
   "execution_count": 5,
   "metadata": {},
   "outputs": [
    {
     "name": "stdout",
     "output_type": "stream",
     "text": [
      "what reading do have in f or c ? \n",
      " ur temperature change is...\n"
     ]
    },
    {
     "data": {
      "text/plain": [
       "'wrong input'"
      ]
     },
     "execution_count": 5,
     "metadata": {},
     "output_type": "execute_result"
    }
   ],
   "source": [
    "def tempchange():\n",
    "    if type == \"f\":\n",
    "        tempf = int(input(\"enter the temp in farenheit:\")) \n",
    "        return ((tempf-32)/(5/9))\n",
    "    elif type == \"c\":\n",
    "        tempc = int(input(\"enter the temp in celsius:\")) \n",
    "        return ((9/5)*tempc)+32\n",
    "    else:\n",
    "        return \"wrong input\"\n",
    "print(\"what reading do have in f or c ? \")\n",
    "type = str(input(\"...\"))\n",
    "print(\" ur temperature change is...\")\n",
    "tempchange()"
   ]
  }
 ],
 "metadata": {
  "kernelspec": {
   "display_name": "Python 3",
   "language": "python",
   "name": "python3"
  },
  "language_info": {
   "codemirror_mode": {
    "name": "ipython",
    "version": 3
   },
   "file_extension": ".py",
   "mimetype": "text/x-python",
   "name": "python",
   "nbconvert_exporter": "python",
   "pygments_lexer": "ipython3",
   "version": "3.11.1"
  },
  "orig_nbformat": 4,
  "vscode": {
   "interpreter": {
    "hash": "1f6a27bcfbe46a917dbd192f4a82657396dda26148bae633192e8d28c70725f1"
   }
  }
 },
 "nbformat": 4,
 "nbformat_minor": 2
}
