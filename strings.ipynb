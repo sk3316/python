{
 "cells": [
  {
   "cell_type": "code",
   "execution_count": 1,
   "metadata": {},
   "outputs": [
    {
     "name": "stdout",
     "output_type": "stream",
     "text": [
      "hello\n",
      "kvnswnvv\n",
      "onvew\n",
      "\n",
      "nono\n"
     ]
    }
   ],
   "source": [
    "print(\"\"\"hello\n",
    "kvnswnvv\n",
    "onvew\n",
    "\n",
    "nono\"\"\")"
   ]
  },
  {
   "cell_type": "code",
   "execution_count": 4,
   "metadata": {},
   "outputs": [
    {
     "name": "stdout",
     "output_type": "stream",
     "text": [
      "a\n",
      "n\n",
      "m\n",
      "printing using for loop\n",
      "\n",
      "a\n",
      "n\n",
      "s\n",
      "h\n",
      "u\n",
      "m\n",
      "a\n",
      "n\n"
     ]
    }
   ],
   "source": [
    "name=\"anshuman\"\n",
    "print(name[0])\n",
    "print(name[1])\n",
    "print(name[5])\n",
    "print(\"printing using for loop\\n\")\n",
    "for character in name:\n",
    "    print(character)"
   ]
  },
  {
   "cell_type": "code",
   "execution_count": 9,
   "metadata": {},
   "outputs": [
    {
     "name": "stdout",
     "output_type": "stream",
     "text": [
      "python\n",
      "14\n",
      "python and c++\n"
     ]
    }
   ],
   "source": [
    "language=\"python and c++\"\n",
    "print(language[0:6])\n",
    "print(len(language))\n",
    "print(language[0:14])"
   ]
  },
  {
   "cell_type": "code",
   "execution_count": 10,
   "metadata": {},
   "outputs": [
    {
     "name": "stdout",
     "output_type": "stream",
     "text": [
      "111\n",
      "hey!!!!!!!! my name is shitanshu ,,,, nice to meet you and have a good day mr, hemlo from mr. shitanshu !!!!!!!\n",
      "HEY!!!!!!!! MY NAME IS SHITANSHU ,,,, NICE TO MEET YOU AND HAVE A GOOD DAY MR, HEMLO FROM MR. SHITANSHU !!!!!!!\n",
      "hey!!!!!!!! my name is shitanshu ,,,, nice to meet you and have a good day mr, hemlo from mr. shitanshu !!!!!!!\n",
      "hey!!!!!!!! my name is shitanshu ,,,, nice to meet you and have a good day mr, hemlo from mr. shitanshu \n",
      "hey!!!!!!!! my name is vibhti  ,,,, nice to meet you and have a good day mr, hemlo from mr. vibhti  !!!!!!!\n",
      "Hey!!!!!!!! my name is shitanshu ,,,, nice to meet you and have a good day mr, hemlo from mr. shitanshu !!!!!!!\n",
      "['hey!!!!!!!!', 'my', 'name', 'is', 'shitanshu', ',,,,', 'nice', 'to', 'meet', 'you', 'and', 'have', 'a', 'good', 'day', 'mr,', 'hemlo', 'from', 'mr.', 'shitanshu', '!!!!!!!']\n",
      "111\n",
      "111\n",
      "2\n",
      "False\n",
      "-1\n",
      "23\n"
     ]
    }
   ],
   "source": [
    "samplename = \"hey!!!!!!!! my name is shitanshu ,,,, nice to meet you and have a good day mr, hemlo from mr. shitanshu !!!!!!!\"\n",
    "print(len(samplename))\n",
    "print(samplename)\n",
    "print(samplename.upper())\n",
    "print(samplename.lower())\n",
    "# rstrip only removes the letter from last\n",
    "print(samplename.rstrip(\"!\"))\n",
    "print(samplename.replace(\"shitanshu\",\"vibhti \"))\n",
    "print(samplename.capitalize())\n",
    "print(samplename.split(\" \"))\n",
    "print(len(samplename))\n",
    "print(len(samplename.center(50)))\n",
    "print(samplename.count(\"shitanshu\"))\n",
    "print(samplename.endswith(\"shitanhu\"))\n",
    "print(samplename.find(\"shitanhu\"))\n",
    "print(samplename.find(\"shitanshu\"))"
   ]
  },
  {
   "cell_type": "code",
   "execution_count": 2,
   "metadata": {},
   "outputs": [
    {
     "name": "stdout",
     "output_type": "stream",
     "text": [
      "3\n"
     ]
    }
   ],
   "source": [
    "name = \"shitanshu is hot very hot more hot than khushal\"\n",
    "print(name.count(\"hot\"))"
   ]
  },
  {
   "cell_type": "code",
   "execution_count": 7,
   "metadata": {},
   "outputs": [
    {
     "data": {
      "text/plain": [
       "b'shitanshu'"
      ]
     },
     "execution_count": 7,
     "metadata": {},
     "output_type": "execute_result"
    }
   ],
   "source": [
    "name = \"shitanshu\"\n",
    "name.encode()"
   ]
  }
 ],
 "metadata": {
  "kernelspec": {
   "display_name": "Python 3",
   "language": "python",
   "name": "python3"
  },
  "language_info": {
   "codemirror_mode": {
    "name": "ipython",
    "version": 3
   },
   "file_extension": ".py",
   "mimetype": "text/x-python",
   "name": "python",
   "nbconvert_exporter": "python",
   "pygments_lexer": "ipython3",
   "version": "3.11.1"
  },
  "orig_nbformat": 4,
  "vscode": {
   "interpreter": {
    "hash": "1f6a27bcfbe46a917dbd192f4a82657396dda26148bae633192e8d28c70725f1"
   }
  }
 },
 "nbformat": 4,
 "nbformat_minor": 2
}
