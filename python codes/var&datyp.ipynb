{
 "cells": [
  {
   "cell_type": "code",
   "execution_count": 2,
   "metadata": {},
   "outputs": [
    {
     "name": "stdout",
     "output_type": "stream",
     "text": [
      "harry\n",
      "123456789\n"
     ]
    }
   ],
   "source": [
    "a=123456789\n",
    "b=\"harry\"\n",
    "print(b)\n",
    "print(a)"
   ]
  },
  {
   "cell_type": "code",
   "execution_count": 3,
   "metadata": {},
   "outputs": [
    {
     "name": "stdout",
     "output_type": "stream",
     "text": [
      "the type of a is  <class 'int'>\n",
      "the type of b is  <class 'bool'>\n",
      "the type of c is  <class 'str'>\n",
      "the type of d is  <class 'NoneType'>\n"
     ]
    }
   ],
   "source": [
    "a=9\n",
    "b=True\n",
    "c=\"harry\"\n",
    "d=None\n",
    "print(\"the type of a is \", type(a))\n",
    "print(\"the type of b is \", type(b))\n",
    "print(\"the type of c is \", type(c))\n",
    "print(\"the type of d is \", type(d))"
   ]
  }
 ],
 "metadata": {
  "kernelspec": {
   "display_name": "Python 3",
   "language": "python",
   "name": "python3"
  },
  "language_info": {
   "codemirror_mode": {
    "name": "ipython",
    "version": 3
   },
   "file_extension": ".py",
   "mimetype": "text/x-python",
   "name": "python",
   "nbconvert_exporter": "python",
   "pygments_lexer": "ipython3",
   "version": "3.11.1"
  },
  "orig_nbformat": 4,
  "vscode": {
   "interpreter": {
    "hash": "1f6a27bcfbe46a917dbd192f4a82657396dda26148bae633192e8d28c70725f1"
   }
  }
 },
 "nbformat": 4,
 "nbformat_minor": 2
}
