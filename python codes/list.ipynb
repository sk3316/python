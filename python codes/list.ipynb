{
 "cells": [
  {
   "cell_type": "code",
   "execution_count": 1,
   "metadata": {},
   "outputs": [
    {
     "name": "stdout",
     "output_type": "stream",
     "text": [
      "[3, 5, 6, 'ahrry', True]\n",
      "<class 'list'>\n",
      "3\n",
      "5\n",
      "6\n",
      "ahrry\n",
      "True\n"
     ]
    }
   ],
   "source": [
    "marks = [3,5,6,\"ahrry\", True]\n",
    "print(marks)\n",
    "print(type(marks))\n",
    "print(marks[0])\n",
    "print(marks[1])\n",
    "print(marks[2])\n",
    "print(marks[3])\n",
    "print(marks[4])"
   ]
  },
  {
   "cell_type": "code",
   "execution_count": 3,
   "metadata": {},
   "outputs": [
    {
     "name": "stdout",
     "output_type": "stream",
     "text": [
      "[0, 1, 4, 9, 16, 25, 36, 49, 64, 81]\n",
      "[0, 4, 16, 36, 64]\n"
     ]
    }
   ],
   "source": [
    "lst = [i*i for i in range(10)]\n",
    "print(lst)\n",
    "lst = [i*i for i in range(10) if i%2==0]\n",
    "print(lst)"
   ]
  },
  {
   "cell_type": "code",
   "execution_count": 14,
   "metadata": {},
   "outputs": [
    {
     "name": "stdout",
     "output_type": "stream",
     "text": [
      "[11, 45, 1, 2, 4, 6, 1]\n",
      "[11, 45, 1, 2, 4, 6, 1]\n",
      "[11, 45, 1, 2, 4, 6, 1, 900, 1000, 1100]\n"
     ]
    }
   ],
   "source": [
    "l = [11,45,1,2,4,6,1]\n",
    "print(l)\n",
    "# l.append(7)\n",
    "# l.sort(reverse=True)\n",
    "# l.reverse()\n",
    "# print(l.count(1))\n",
    "# l.insert(1,899)\n",
    "m = [900,1000,1100]\n",
    "k= l + m\n",
    "# l.extend(m)\n",
    "# m.extend(l)\n",
    "print(l)\n",
    "print(k)\n",
    "# print(m)"
   ]
  }
 ],
 "metadata": {
  "kernelspec": {
   "display_name": "Python 3",
   "language": "python",
   "name": "python3"
  },
  "language_info": {
   "codemirror_mode": {
    "name": "ipython",
    "version": 3
   },
   "file_extension": ".py",
   "mimetype": "text/x-python",
   "name": "python",
   "nbconvert_exporter": "python",
   "pygments_lexer": "ipython3",
   "version": "3.11.1"
  },
  "orig_nbformat": 4
 },
 "nbformat": 4,
 "nbformat_minor": 2
}
