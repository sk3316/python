{
 "cells": [
  {
   "cell_type": "code",
   "execution_count": 1,
   "metadata": {},
   "outputs": [
    {
     "name": "stdout",
     "output_type": "stream",
     "text": [
      "hello world my name is \"shitanshu\"\n"
     ]
    }
   ],
   "source": [
    "print(\"hello world my name is \\\"shitanshu\\\"\")"
   ]
  },
  {
   "cell_type": "code",
   "execution_count": 4,
   "metadata": {},
   "outputs": [
    {
     "name": "stdout",
     "output_type": "stream",
     "text": [
      "* \n",
      "* * \n",
      "* * * \n",
      "* * * * \n",
      "* * * * * \n"
     ]
    }
   ],
   "source": [
    "n=int(input(...))\n",
    "for i in range (0,n):\n",
    "    for j in range(0,i+1):\n",
    "        print(\"* \",end=\"\")\n",
    "    print(\"\\r\")\n",
    "\n"
   ]
  },
  {
   "cell_type": "code",
   "execution_count": 2,
   "metadata": {},
   "outputs": [
    {
     "name": "stdout",
     "output_type": "stream",
     "text": [
      "Menu:\n",
      "Steak - $25.99\n",
      "Salmon - $18.99\n",
      "Pasta - $14.99\n",
      "Booked Tables:\n",
      "1\n",
      "2\n",
      "Customer Orders:\n",
      "Table 1:\n",
      "- ['Steak', 'Salmon']\n",
      "Table 2:\n",
      "- ['Pasta']\n"
     ]
    }
   ],
   "source": [
    "class Restaurant:\n",
    "    def __init__(self):\n",
    "        self.menu_items = []\n",
    "        self.booked_tables = []\n",
    "        self.customer_orders = {}\n",
    "\n",
    "    def add_item_to_menu(self, item_name, price):\n",
    "        self.menu_items.append((item_name, price))\n",
    "\n",
    "    def book_table(self, table_number):\n",
    "        self.booked_tables.append(table_number)\n",
    "\n",
    "    def customer_order(self, table_number, order_items):\n",
    "        if table_number not in self.customer_orders:\n",
    "            self.customer_orders[table_number] = []\n",
    "        self.customer_orders[table_number].append(order_items)\n",
    "\n",
    "    def print_menu(self):\n",
    "        print(\"Menu:\")\n",
    "        for item in self.menu_items:\n",
    "            print(f\"{item[0]} - ${item[1]:.2f}\")\n",
    "\n",
    "    def print_table_reservations(self):\n",
    "        print(\"Booked Tables:\")\n",
    "        for table in self.booked_tables:\n",
    "            print(table)\n",
    "\n",
    "    def print_customer_orders(self):\n",
    "        print(\"Customer Orders:\")\n",
    "        for table_number, order_items in self.customer_orders.items():\n",
    "            print(f\"Table {table_number}:\")\n",
    "            for item in order_items:\n",
    "                print(f\"- {item}\")\n",
    "\n",
    "# Create a restaurant instance\n",
    "restaurant = Restaurant()\n",
    "\n",
    "# Add items to the menu\n",
    "restaurant.add_item_to_menu(\"Steak\", 25.99)\n",
    "restaurant.add_item_to_menu(\"Salmon\", 18.99)\n",
    "restaurant.add_item_to_menu(\"Pasta\", 14.99)\n",
    "\n",
    "# Book tables\n",
    "restaurant.book_table(1)\n",
    "restaurant.book_table(2)\n",
    "\n",
    "# Take customer orders\n",
    "restaurant.customer_order(1, [\"Steak\", \"Salmon\"])\n",
    "restaurant.customer_order(2, [\"Pasta\"])\n",
    "\n",
    "# Print menu, table reservations, and customer orders\n",
    "restaurant.print_menu()\n",
    "restaurant.print_table_reservations()\n",
    "restaurant.print_customer_orders()\n"
   ]
  }
 ],
 "metadata": {
  "kernelspec": {
   "display_name": "Python 3",
   "language": "python",
   "name": "python3"
  },
  "language_info": {
   "codemirror_mode": {
    "name": "ipython",
    "version": 3
   },
   "file_extension": ".py",
   "mimetype": "text/x-python",
   "name": "python",
   "nbconvert_exporter": "python",
   "pygments_lexer": "ipython3",
   "version": "3.11.1"
  },
  "orig_nbformat": 4,
  "vscode": {
   "interpreter": {
    "hash": "1f6a27bcfbe46a917dbd192f4a82657396dda26148bae633192e8d28c70725f1"
   }
  }
 },
 "nbformat": 4,
 "nbformat_minor": 2
}
