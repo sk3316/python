{
 "cells": [
  {
   "cell_type": "code",
   "execution_count": 1,
   "metadata": {},
   "outputs": [
    {
     "data": {
      "text/plain": [
       "['__class__',\n",
       " '__class_getitem__',\n",
       " '__contains__',\n",
       " '__delattr__',\n",
       " '__delitem__',\n",
       " '__dir__',\n",
       " '__doc__',\n",
       " '__eq__',\n",
       " '__format__',\n",
       " '__ge__',\n",
       " '__getattribute__',\n",
       " '__getitem__',\n",
       " '__getstate__',\n",
       " '__gt__',\n",
       " '__hash__',\n",
       " '__init__',\n",
       " '__init_subclass__',\n",
       " '__ior__',\n",
       " '__iter__',\n",
       " '__le__',\n",
       " '__len__',\n",
       " '__lt__',\n",
       " '__ne__',\n",
       " '__new__',\n",
       " '__or__',\n",
       " '__reduce__',\n",
       " '__reduce_ex__',\n",
       " '__repr__',\n",
       " '__reversed__',\n",
       " '__ror__',\n",
       " '__setattr__',\n",
       " '__setitem__',\n",
       " '__sizeof__',\n",
       " '__str__',\n",
       " '__subclasshook__',\n",
       " 'clear',\n",
       " 'copy',\n",
       " 'fromkeys',\n",
       " 'get',\n",
       " 'items',\n",
       " 'keys',\n",
       " 'pop',\n",
       " 'popitem',\n",
       " 'setdefault',\n",
       " 'update',\n",
       " 'values']"
      ]
     },
     "execution_count": 1,
     "metadata": {},
     "output_type": "execute_result"
    }
   ],
   "source": [
    "dir(dict)"
   ]
  },
  {
   "cell_type": "code",
   "execution_count": 45,
   "metadata": {},
   "outputs": [
    {
     "name": "stdout",
     "output_type": "stream",
     "text": [
      "<class 'dict'>\n",
      "{'brand': 'Ford', 'model': 'Mustang', 'year': 2023, 'owner': 'shitiiboiiii', 'colors': ['red', 'white', 'blue']}\n",
      "Ford\n",
      "['red', 'white', 'blue']\n",
      "5\n",
      "Mustang\n",
      "dict_values(['Ford', 'Mustang', 2023, 'shitiiboiiii', ['red', 'white', 'blue']])\n",
      "Yes, 'model' is one of the keys in the thisdict dictionary and item it is holding is: Mustang\n",
      "{'brand': 'Ford', 'model': 'Mustang', 'year': 2020, 'owner': 'shitiiboiiii', 'colors': ['red', 'white', 'blue']}\n",
      "{'brand': 'Ford', 'year': 2020, 'owner': 'shitiiboiiii', 'colors': ['red', 'white', 'blue']}\n",
      "Result dictionary sorted by keys : {'brand': 'Ford', 'colors': ['red', 'white', 'blue'], 'owner': 'shitiiboiiii', 'year': 2020}\n",
      "{'shitu': 100, 'vibhuti': 99, 'manas': 90, 'shalini': 88, 'shivi': 1002, 'vibhansh': 234, 'hershey': 34}\n",
      "Result dictionary sorted by keys : {'hershey': 34, 'manas': 90, 'shalini': 88, 'shitu': 100, 'shivi': 1002, 'vibhansh': 234, 'vibhuti': 99}\n",
      "{'shitu': 100, 'vibhuti': 99, 'manas': 90, 'shalini': 88, 'shivi': 1002, 'vibhansh': 234}\n",
      "{}\n"
     ]
    }
   ],
   "source": [
    "thisdict = {\"brand\": \"Ford\",\"model\": \"Mustang\",\"year\": 1964,\"year\": 2023, \"owner\": \"shitiiboiiii\",\"colors\": [\"red\", \"white\", \"blue\"] }\n",
    "print(type(thisdict))\n",
    "print(thisdict)\n",
    "print(thisdict[\"brand\"])\n",
    "print(thisdict[\"colors\"])\n",
    "print(len(thisdict))\n",
    "x = thisdict[\"model\"]\n",
    "# x = thisdict.get(\"model\")\n",
    "# x = thisdict.keys()\n",
    "y = thisdict.values()\n",
    "# x = thisdict.items()\n",
    "print(x)\n",
    "print(y)\n",
    "if \"model\" in thisdict:\n",
    "  print(f\"Yes, 'model' is one of the keys in the thisdict dictionary and item it is holding is: {x}\")\n",
    "thisdict.update({\"year\": 2020})\n",
    "print(thisdict)\n",
    "thisdict.pop(\"model\")\n",
    "print(thisdict)\n",
    "# thisdict.popitem()\n",
    "# print(thisdict)\n",
    "\n",
    "# lambda function is passed in key to perform sort by key \n",
    "res = {key: val for key, val in sorted(thisdict.items(), key = lambda ele: ele[0])}\n",
    "# printing result \n",
    "print(\"Result dictionary sorted by keys : \" + str(res)) \n",
    "\n",
    "numbers = {\"shitu\": 100 , \"vibhuti\": 99, \"manas\": 90, \"shalini\": 88, \"shivi\": 1002,\"vibhansh\": 234, \"hershey\": 34}\n",
    "print(numbers)\n",
    "# lambda function is passed in key to perform sort by key \n",
    "res = {key: val for key, val in sorted(numbers.items(), key = lambda ele: ele[0])}\n",
    "# printing result \n",
    "print(\"Result dictionary sorted by keys : \" + str(res)) \n",
    "\n",
    "del numbers[\"hershey\"]\n",
    "print(numbers)\n",
    "\n",
    "thisdict.clear()\n",
    "print(thisdict)\n"
   ]
  },
  {
   "cell_type": "code",
   "execution_count": 51,
   "metadata": {},
   "outputs": [
    {
     "name": "stdout",
     "output_type": "stream",
     "text": [
      "brand Ford\n",
      "model Mustang\n",
      "year 2023\n",
      "owner shitiiboiiii\n",
      "colors ['red', 'white', 'blue']\n"
     ]
    }
   ],
   "source": [
    "# loop dictionary\n",
    "thisdict = {\"brand\": \"Ford\",\"model\": \"Mustang\",\"year\": 1964,\"year\": 2023, \"owner\": \"shitiiboiiii\",\"colors\": [\"red\", \"white\", \"blue\"] }\n",
    "# Print all key names in the dictionary, one by one:\n",
    "\n",
    "# for x in thisdict:\n",
    "#   print(x)\n",
    "\n",
    "# You can use the keys() method to return the keys of a dictionary:\n",
    "\n",
    "# for x in thisdict.keys():\n",
    "#   print(x)\n",
    "\n",
    "# Print all values in the dictionary, one by one:\n",
    "\n",
    "# for x in thisdict:\n",
    "#   print(thisdict[x])\n",
    "\n",
    "# You can also use the values() method to return values of a dictionary:\n",
    "\n",
    "# for x in thisdict.values():\n",
    "#   print(x)\n",
    "\n",
    "# Loop through both keys and values, by using the items() method:\n",
    "\n",
    "for x, y in thisdict.items():\n",
    "  print(x, y)\n"
   ]
  }
 ],
 "metadata": {
  "kernelspec": {
   "display_name": "Python 3",
   "language": "python",
   "name": "python3"
  },
  "language_info": {
   "codemirror_mode": {
    "name": "ipython",
    "version": 3
   },
   "file_extension": ".py",
   "mimetype": "text/x-python",
   "name": "python",
   "nbconvert_exporter": "python",
   "pygments_lexer": "ipython3",
   "version": "3.11.1"
  },
  "orig_nbformat": 4
 },
 "nbformat": 4,
 "nbformat_minor": 2
}
