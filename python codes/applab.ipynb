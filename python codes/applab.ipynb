{
 "cells": [
  {
   "cell_type": "code",
   "execution_count": 1,
   "metadata": {},
   "outputs": [
    {
     "name": "stdout",
     "output_type": "stream",
     "text": [
      "11.5\n"
     ]
    }
   ],
   "source": [
    "# 1. Consider you are automate the Graduity calculation using the following a program that\n",
    "# reads the subtotal and the gratuity rate and computes the gratuity and total. For example, if the\n",
    "\n",
    "# user enters 10 for the subtotal and 15% for the gratuity rate, the program displays 1.5 as the\n",
    "# gratuity and 11.5 as the total.\n",
    "\n",
    "subtotal=int(input(\"enter the value of subtotal\"))\n",
    "gradutity=int(input(\"enter the gradutity value\"))\n",
    "total=subtotal+(subtotal*(gradutity/100))\n",
    "print(total)"
   ]
  },
  {
   "cell_type": "code",
   "execution_count": 2,
   "metadata": {},
   "outputs": [
    {
     "name": "stdout",
     "output_type": "stream",
     "text": [
      "0\n"
     ]
    }
   ],
   "source": [
    "num = int(input(\"enter any number:\"))\n",
    "if num > 0 and num < 1000:\n",
    "    total = 0\n",
    "    digit = num%10\n",
    "    total += digit \n",
    "    num//= 10\n",
    "    print(total)\n",
    "else:\n",
    "    print(\"no\")\n"
   ]
  },
  {
   "cell_type": "code",
   "execution_count": null,
   "metadata": {},
   "outputs": [],
   "source": [
    "import random\n",
    "num = random.int(100,999)\n"
   ]
  },
  {
   "cell_type": "code",
   "execution_count": null,
   "metadata": {},
   "outputs": [],
   "source": [
    "import random\n",
    "\n",
    "# Generate a three-digit lottery number\n",
    "lottery_number = str(random.randint(100, 999))\n",
    "\n",
    "# Prompt user to enter a three-digit number\n",
    "user_input = input(\"Enter a three-digit number: \")\n",
    "\n",
    "# Check if user input matches the lottery number in the exact order\n",
    "if user_input == lottery_number:\n",
    "    print(\"Congratulations! You have won $10,000!\")\n",
    "# Check if all the digits in the user input match all the digits in the lottery number\n",
    "elif sorted(user_input) == sorted(lottery_number):\n",
    "    print(\"Congratulations! You have won $3,000!\")\n",
    "# Check if one digit in the user input matches a digit in the lottery number\n",
    "elif any(digit in user_input for digit in lottery_number):\n",
    "    print(\"Congratulations! You have won $1,000!\")\n",
    "# No match found\n",
    "else:\n",
    "    print(\"Sorry, you did not win this time. The lottery number was\", lottery_number)\n"
   ]
  }
 ],
 "metadata": {
  "kernelspec": {
   "display_name": "Python 3",
   "language": "python",
   "name": "python3"
  },
  "language_info": {
   "codemirror_mode": {
    "name": "ipython",
    "version": 3
   },
   "file_extension": ".py",
   "mimetype": "text/x-python",
   "name": "python",
   "nbconvert_exporter": "python",
   "pygments_lexer": "ipython3",
   "version": "3.11.1"
  },
  "orig_nbformat": 4,
  "vscode": {
   "interpreter": {
    "hash": "1f6a27bcfbe46a917dbd192f4a82657396dda26148bae633192e8d28c70725f1"
   }
  }
 },
 "nbformat": 4,
 "nbformat_minor": 2
}
