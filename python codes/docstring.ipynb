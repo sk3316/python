{
 "cells": [
  {
   "cell_type": "code",
   "execution_count": 1,
   "metadata": {},
   "outputs": [
    {
     "name": "stdout",
     "output_type": "stream",
     "text": [
      "25\n",
      "this is a docstring which is written just below def and can be called in main program dont misconfuse this with comments\n"
     ]
    }
   ],
   "source": [
    "def square(n):\n",
    "    '''this is a docstring which is written just below def and can be called in main program dont misconfuse this with comments'''\n",
    "    print(n**2)\n",
    "\n",
    "square(5)\n",
    "print(square.__doc__)"
   ]
  }
 ],
 "metadata": {
  "kernelspec": {
   "display_name": "Python 3",
   "language": "python",
   "name": "python3"
  },
  "language_info": {
   "codemirror_mode": {
    "name": "ipython",
    "version": 3
   },
   "file_extension": ".py",
   "mimetype": "text/x-python",
   "name": "python",
   "nbconvert_exporter": "python",
   "pygments_lexer": "ipython3",
   "version": "3.11.1"
  },
  "orig_nbformat": 4
 },
 "nbformat": 4,
 "nbformat_minor": 2
}
