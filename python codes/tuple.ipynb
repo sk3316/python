{
 "cells": [
  {
   "attachments": {},
   "cell_type": "markdown",
   "metadata": {},
   "source": [
    "#tuple cant be changed they are immutable"
   ]
  },
  {
   "cell_type": "code",
   "execution_count": 4,
   "metadata": {},
   "outputs": [
    {
     "name": "stdout",
     "output_type": "stream",
     "text": [
      "(1, 2, 3, 4, 5, 6, 'green')\n",
      "<class 'tuple'>\n",
      "7\n"
     ]
    }
   ],
   "source": [
    "\n",
    "tup = (1,2,3,4,5,6,\"green\")\n",
    "print(tup)\n",
    "print(type(tup))\n",
    "print(len(tup))"
   ]
  },
  {
   "cell_type": "code",
   "execution_count": 5,
   "metadata": {},
   "outputs": [
    {
     "name": "stdout",
     "output_type": "stream",
     "text": [
      "('spain', 'india', 'finland', 'russia')\n"
     ]
    }
   ],
   "source": [
    "countries = (\"spain\", \"india\", \"africa\", \"new york\")\n",
    "temp = list(countries)\n",
    "temp.append(\"russia\")\n",
    "temp.pop(3)\n",
    "temp[2]=\"finland\"\n",
    "countries = tuple(temp)\n",
    "print(countries)"
   ]
  }
 ],
 "metadata": {
  "kernelspec": {
   "display_name": "Python 3",
   "language": "python",
   "name": "python3"
  },
  "language_info": {
   "codemirror_mode": {
    "name": "ipython",
    "version": 3
   },
   "file_extension": ".py",
   "mimetype": "text/x-python",
   "name": "python",
   "nbconvert_exporter": "python",
   "pygments_lexer": "ipython3",
   "version": "3.11.1"
  },
  "orig_nbformat": 4
 },
 "nbformat": 4,
 "nbformat_minor": 2
}
