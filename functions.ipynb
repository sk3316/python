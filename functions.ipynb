{
 "cells": [
  {
   "cell_type": "code",
   "execution_count": 2,
   "metadata": {},
   "outputs": [
    {
     "name": "stdout",
     "output_type": "stream",
     "text": [
      "1.2\n",
      "2 is smaller than 3\n",
      "1.7142857142857142\n",
      "3 is smaller than 4\n",
      "1.7142857142857142\n",
      "4 is greater than 3\n",
      "1.2\n",
      "3 is greater than 2\n"
     ]
    }
   ],
   "source": [
    "def Calgmean(a,b):\n",
    "    gmean=(a*b)/(a+b)\n",
    "    print(gmean)\n",
    "\n",
    "def compare(a,b):\n",
    "    if(a>b):\n",
    "        print(f\"{a} is greater than {b}\")\n",
    "    else:\n",
    "        print(f\"{a} is smaller than {b}\")\n",
    "\n",
    "Calgmean(2,3)\n",
    "compare(2,3)\n",
    "Calgmean(3,4)\n",
    "compare(3,4)\n",
    "Calgmean(4,3)\n",
    "compare(4,3)\n",
    "Calgmean(3,2)\n",
    "compare(3,2)"
   ]
  },
  {
   "cell_type": "code",
   "execution_count": 7,
   "metadata": {},
   "outputs": [
    {
     "name": "stdout",
     "output_type": "stream",
     "text": [
      "average of numbers is  5.5\n"
     ]
    }
   ],
   "source": [
    "def average(*numbers):\n",
    "    sum = 0\n",
    "    for i in numbers:\n",
    "        sum = sum + i\n",
    "    print(\"average of numbers is \", sum/len(numbers))\n",
    "\n",
    "average(1,2,3,4,5,6,7,8,9,10)\n"
   ]
  },
  {
   "cell_type": "code",
   "execution_count": 1,
   "metadata": {},
   "outputs": [
    {
     "name": "stdout",
     "output_type": "stream",
     "text": [
      "aryan\n"
     ]
    }
   ],
   "source": [
    "def hello(name):\n",
    "    print(name)\n",
    "\n",
    "hello(\"aryan\")"
   ]
  }
 ],
 "metadata": {
  "kernelspec": {
   "display_name": "Python 3",
   "language": "python",
   "name": "python3"
  },
  "language_info": {
   "codemirror_mode": {
    "name": "ipython",
    "version": 3
   },
   "file_extension": ".py",
   "mimetype": "text/x-python",
   "name": "python",
   "nbconvert_exporter": "python",
   "pygments_lexer": "ipython3",
   "version": "3.11.1"
  },
  "orig_nbformat": 4
 },
 "nbformat": 4,
 "nbformat_minor": 2
}
